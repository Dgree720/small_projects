{
 "cells": [
  {
   "cell_type": "code",
   "execution_count": 2,
   "id": "20676b5f",
   "metadata": {},
   "outputs": [],
   "source": [
    "from datetime import datetime\n",
    "from meteostat import Point, Daily, Hourly\n",
    "import pandas as pd\n",
    "from meteostat import Stations"
   ]
  },
  {
   "cell_type": "code",
   "execution_count": 3,
   "id": "81e5dcd6",
   "metadata": {},
   "outputs": [
    {
     "name": "stdout",
     "output_type": "stream",
     "text": [
      "2024-08-25 00:00:00\n",
      "2025-08-25 20:29:38\n"
     ]
    }
   ],
   "source": [
    "current_date = datetime.now()\n",
    "start = datetime(current_date.year -1, current_date.month, current_date.day)\n",
    "end = datetime(current_date.year, current_date.month, current_date.day, current_date.hour-1, current_date.minute, current_date.second)\n",
    "\n",
    "print(start)\n",
    "print(end)"
   ]
  },
  {
   "cell_type": "code",
   "execution_count": 4,
   "id": "fd55a2bc",
   "metadata": {},
   "outputs": [],
   "source": [
    "from retrieval import get_coordinates"
   ]
  },
  {
   "cell_type": "code",
   "execution_count": 5,
   "id": "59cdcab8",
   "metadata": {},
   "outputs": [
    {
     "data": {
      "text/plain": [
       "48.7127"
      ]
     },
     "execution_count": 5,
     "metadata": {},
     "output_type": "execute_result"
    }
   ],
   "source": [
    "lat, lng = get_coordinates(\"Calw\")\n",
    "lat"
   ]
  },
  {
   "cell_type": "code",
   "execution_count": 6,
   "id": "b0a7562d",
   "metadata": {},
   "outputs": [
    {
     "data": {
      "application/vnd.microsoft.datawrangler.viewer.v0+json": {
       "columns": [
        {
         "name": "id",
         "rawType": "string",
         "type": "string"
        },
        {
         "name": "name",
         "rawType": "object",
         "type": "string"
        },
        {
         "name": "country",
         "rawType": "string",
         "type": "string"
        },
        {
         "name": "region",
         "rawType": "string",
         "type": "string"
        },
        {
         "name": "wmo",
         "rawType": "string",
         "type": "string"
        },
        {
         "name": "icao",
         "rawType": "string",
         "type": "string"
        },
        {
         "name": "latitude",
         "rawType": "float64",
         "type": "float"
        },
        {
         "name": "longitude",
         "rawType": "float64",
         "type": "float"
        },
        {
         "name": "elevation",
         "rawType": "float64",
         "type": "float"
        },
        {
         "name": "timezone",
         "rawType": "string",
         "type": "string"
        },
        {
         "name": "hourly_start",
         "rawType": "datetime64[ns]",
         "type": "datetime"
        },
        {
         "name": "hourly_end",
         "rawType": "datetime64[ns]",
         "type": "datetime"
        },
        {
         "name": "daily_start",
         "rawType": "datetime64[ns]",
         "type": "datetime"
        },
        {
         "name": "daily_end",
         "rawType": "datetime64[ns]",
         "type": "datetime"
        },
        {
         "name": "monthly_start",
         "rawType": "datetime64[ns]",
         "type": "datetime"
        },
        {
         "name": "monthly_end",
         "rawType": "datetime64[ns]",
         "type": "datetime"
        },
        {
         "name": "distance",
         "rawType": "float64",
         "type": "float"
        }
       ],
       "ref": "4fab6c33-2174-4485-9bca-c2caa5d3064b",
       "rows": [
        [
         "7M2XN",
         "Calw-hirsau",
         "DE",
         "BW",
         null,
         null,
         "48.745",
         "8.7301",
         "329.0",
         "Europe/Berlin",
         "2018-05-23 00:00:00",
         "2025-08-14 00:00:00",
         null,
         null,
         null,
         null,
         "3704.9632511303525"
        ]
       ],
       "shape": {
        "columns": 16,
        "rows": 1
       }
      },
      "text/html": [
       "<div>\n",
       "<style scoped>\n",
       "    .dataframe tbody tr th:only-of-type {\n",
       "        vertical-align: middle;\n",
       "    }\n",
       "\n",
       "    .dataframe tbody tr th {\n",
       "        vertical-align: top;\n",
       "    }\n",
       "\n",
       "    .dataframe thead th {\n",
       "        text-align: right;\n",
       "    }\n",
       "</style>\n",
       "<table border=\"1\" class=\"dataframe\">\n",
       "  <thead>\n",
       "    <tr style=\"text-align: right;\">\n",
       "      <th></th>\n",
       "      <th>name</th>\n",
       "      <th>country</th>\n",
       "      <th>region</th>\n",
       "      <th>wmo</th>\n",
       "      <th>icao</th>\n",
       "      <th>latitude</th>\n",
       "      <th>longitude</th>\n",
       "      <th>elevation</th>\n",
       "      <th>timezone</th>\n",
       "      <th>hourly_start</th>\n",
       "      <th>hourly_end</th>\n",
       "      <th>daily_start</th>\n",
       "      <th>daily_end</th>\n",
       "      <th>monthly_start</th>\n",
       "      <th>monthly_end</th>\n",
       "      <th>distance</th>\n",
       "    </tr>\n",
       "    <tr>\n",
       "      <th>id</th>\n",
       "      <th></th>\n",
       "      <th></th>\n",
       "      <th></th>\n",
       "      <th></th>\n",
       "      <th></th>\n",
       "      <th></th>\n",
       "      <th></th>\n",
       "      <th></th>\n",
       "      <th></th>\n",
       "      <th></th>\n",
       "      <th></th>\n",
       "      <th></th>\n",
       "      <th></th>\n",
       "      <th></th>\n",
       "      <th></th>\n",
       "      <th></th>\n",
       "    </tr>\n",
       "  </thead>\n",
       "  <tbody>\n",
       "    <tr>\n",
       "      <th>7M2XN</th>\n",
       "      <td>Calw-hirsau</td>\n",
       "      <td>DE</td>\n",
       "      <td>BW</td>\n",
       "      <td>&lt;NA&gt;</td>\n",
       "      <td>&lt;NA&gt;</td>\n",
       "      <td>48.745</td>\n",
       "      <td>8.7301</td>\n",
       "      <td>329.0</td>\n",
       "      <td>Europe/Berlin</td>\n",
       "      <td>2018-05-23</td>\n",
       "      <td>2025-08-14</td>\n",
       "      <td>NaT</td>\n",
       "      <td>NaT</td>\n",
       "      <td>NaT</td>\n",
       "      <td>NaT</td>\n",
       "      <td>3704.963251</td>\n",
       "    </tr>\n",
       "  </tbody>\n",
       "</table>\n",
       "</div>"
      ],
      "text/plain": [
       "              name country region   wmo  icao  latitude  longitude  elevation  \\\n",
       "id                                                                              \n",
       "7M2XN  Calw-hirsau      DE     BW  <NA>  <NA>    48.745     8.7301      329.0   \n",
       "\n",
       "            timezone hourly_start hourly_end daily_start daily_end  \\\n",
       "id                                                                   \n",
       "7M2XN  Europe/Berlin   2018-05-23 2025-08-14         NaT       NaT   \n",
       "\n",
       "      monthly_start monthly_end     distance  \n",
       "id                                            \n",
       "7M2XN           NaT         NaT  3704.963251  "
      ]
     },
     "execution_count": 6,
     "metadata": {},
     "output_type": "execute_result"
    }
   ],
   "source": [
    "stations = Stations()\n",
    "stations = stations.nearby(lat, lng)\n",
    "station = stations.fetch(1)\n",
    "\n",
    "station"
   ]
  },
  {
   "cell_type": "code",
   "execution_count": 7,
   "id": "ded67eec",
   "metadata": {},
   "outputs": [
    {
     "data": {
      "text/plain": [
       "'7M2XN'"
      ]
     },
     "execution_count": 7,
     "metadata": {},
     "output_type": "execute_result"
    }
   ],
   "source": [
    "id = station.index.to_numpy()[0]\n",
    "id"
   ]
  },
  {
   "cell_type": "code",
   "execution_count": 8,
   "id": "5cbc427d",
   "metadata": {},
   "outputs": [
    {
     "data": {
      "application/vnd.microsoft.datawrangler.viewer.v0+json": {
       "columns": [
        {
         "name": "time",
         "rawType": "datetime64[ns]",
         "type": "datetime"
        },
        {
         "name": "temp",
         "rawType": "Float64",
         "type": "float"
        },
        {
         "name": "dwpt",
         "rawType": "Float64",
         "type": "float"
        },
        {
         "name": "rhum",
         "rawType": "Float64",
         "type": "float"
        },
        {
         "name": "prcp",
         "rawType": "Float64",
         "type": "float"
        },
        {
         "name": "snow",
         "rawType": "Float64",
         "type": "float"
        },
        {
         "name": "wdir",
         "rawType": "Float64",
         "type": "float"
        },
        {
         "name": "wspd",
         "rawType": "Float64",
         "type": "float"
        },
        {
         "name": "wpgt",
         "rawType": "Float64",
         "type": "float"
        },
        {
         "name": "pres",
         "rawType": "Float64",
         "type": "float"
        },
        {
         "name": "tsun",
         "rawType": "Float64",
         "type": "float"
        },
        {
         "name": "coco",
         "rawType": "Float64",
         "type": "float"
        }
       ],
       "ref": "eaa5ecd6-f2a6-4e12-a370-f742dd179045",
       "rows": [
        [
         "2024-08-25 00:00:00",
         "20.5",
         "19.2",
         "92.0",
         "0.0",
         null,
         "257.0",
         "16.9",
         null,
         "1015.0",
         null,
         "8.0"
        ],
        [
         "2024-08-25 01:00:00",
         "20.0",
         "18.8",
         "93.0",
         "0.0",
         null,
         "278.0",
         "22.0",
         null,
         "1015.8",
         null,
         "8.0"
        ],
        [
         "2024-08-25 02:00:00",
         "18.7",
         "17.4",
         "92.0",
         "0.0",
         null,
         "289.0",
         "20.9",
         null,
         "1016.8",
         null,
         "8.0"
        ],
        [
         "2024-08-25 03:00:00",
         "17.9",
         "16.8",
         "93.0",
         "1.0",
         null,
         "288.0",
         "21.2",
         null,
         "1018.1",
         null,
         "8.0"
        ],
        [
         "2024-08-25 04:00:00",
         "16.2",
         "14.4",
         "89.0",
         "0.5",
         null,
         "290.0",
         "21.2",
         null,
         "1019.2",
         null,
         "7.0"
        ]
       ],
       "shape": {
        "columns": 11,
        "rows": 5
       }
      },
      "text/html": [
       "<div>\n",
       "<style scoped>\n",
       "    .dataframe tbody tr th:only-of-type {\n",
       "        vertical-align: middle;\n",
       "    }\n",
       "\n",
       "    .dataframe tbody tr th {\n",
       "        vertical-align: top;\n",
       "    }\n",
       "\n",
       "    .dataframe thead th {\n",
       "        text-align: right;\n",
       "    }\n",
       "</style>\n",
       "<table border=\"1\" class=\"dataframe\">\n",
       "  <thead>\n",
       "    <tr style=\"text-align: right;\">\n",
       "      <th></th>\n",
       "      <th>temp</th>\n",
       "      <th>dwpt</th>\n",
       "      <th>rhum</th>\n",
       "      <th>prcp</th>\n",
       "      <th>snow</th>\n",
       "      <th>wdir</th>\n",
       "      <th>wspd</th>\n",
       "      <th>wpgt</th>\n",
       "      <th>pres</th>\n",
       "      <th>tsun</th>\n",
       "      <th>coco</th>\n",
       "    </tr>\n",
       "    <tr>\n",
       "      <th>time</th>\n",
       "      <th></th>\n",
       "      <th></th>\n",
       "      <th></th>\n",
       "      <th></th>\n",
       "      <th></th>\n",
       "      <th></th>\n",
       "      <th></th>\n",
       "      <th></th>\n",
       "      <th></th>\n",
       "      <th></th>\n",
       "      <th></th>\n",
       "    </tr>\n",
       "  </thead>\n",
       "  <tbody>\n",
       "    <tr>\n",
       "      <th>2024-08-25 00:00:00</th>\n",
       "      <td>20.5</td>\n",
       "      <td>19.2</td>\n",
       "      <td>92.0</td>\n",
       "      <td>0.0</td>\n",
       "      <td>&lt;NA&gt;</td>\n",
       "      <td>257.0</td>\n",
       "      <td>16.9</td>\n",
       "      <td>&lt;NA&gt;</td>\n",
       "      <td>1015.0</td>\n",
       "      <td>&lt;NA&gt;</td>\n",
       "      <td>8.0</td>\n",
       "    </tr>\n",
       "    <tr>\n",
       "      <th>2024-08-25 01:00:00</th>\n",
       "      <td>20.0</td>\n",
       "      <td>18.8</td>\n",
       "      <td>93.0</td>\n",
       "      <td>0.0</td>\n",
       "      <td>&lt;NA&gt;</td>\n",
       "      <td>278.0</td>\n",
       "      <td>22.0</td>\n",
       "      <td>&lt;NA&gt;</td>\n",
       "      <td>1015.8</td>\n",
       "      <td>&lt;NA&gt;</td>\n",
       "      <td>8.0</td>\n",
       "    </tr>\n",
       "    <tr>\n",
       "      <th>2024-08-25 02:00:00</th>\n",
       "      <td>18.7</td>\n",
       "      <td>17.4</td>\n",
       "      <td>92.0</td>\n",
       "      <td>0.0</td>\n",
       "      <td>&lt;NA&gt;</td>\n",
       "      <td>289.0</td>\n",
       "      <td>20.9</td>\n",
       "      <td>&lt;NA&gt;</td>\n",
       "      <td>1016.8</td>\n",
       "      <td>&lt;NA&gt;</td>\n",
       "      <td>8.0</td>\n",
       "    </tr>\n",
       "    <tr>\n",
       "      <th>2024-08-25 03:00:00</th>\n",
       "      <td>17.9</td>\n",
       "      <td>16.8</td>\n",
       "      <td>93.0</td>\n",
       "      <td>1.0</td>\n",
       "      <td>&lt;NA&gt;</td>\n",
       "      <td>288.0</td>\n",
       "      <td>21.2</td>\n",
       "      <td>&lt;NA&gt;</td>\n",
       "      <td>1018.1</td>\n",
       "      <td>&lt;NA&gt;</td>\n",
       "      <td>8.0</td>\n",
       "    </tr>\n",
       "    <tr>\n",
       "      <th>2024-08-25 04:00:00</th>\n",
       "      <td>16.2</td>\n",
       "      <td>14.4</td>\n",
       "      <td>89.0</td>\n",
       "      <td>0.5</td>\n",
       "      <td>&lt;NA&gt;</td>\n",
       "      <td>290.0</td>\n",
       "      <td>21.2</td>\n",
       "      <td>&lt;NA&gt;</td>\n",
       "      <td>1019.2</td>\n",
       "      <td>&lt;NA&gt;</td>\n",
       "      <td>7.0</td>\n",
       "    </tr>\n",
       "  </tbody>\n",
       "</table>\n",
       "</div>"
      ],
      "text/plain": [
       "                     temp  dwpt  rhum  prcp  snow   wdir  wspd  wpgt    pres  \\\n",
       "time                                                                           \n",
       "2024-08-25 00:00:00  20.5  19.2  92.0   0.0  <NA>  257.0  16.9  <NA>  1015.0   \n",
       "2024-08-25 01:00:00  20.0  18.8  93.0   0.0  <NA>  278.0  22.0  <NA>  1015.8   \n",
       "2024-08-25 02:00:00  18.7  17.4  92.0   0.0  <NA>  289.0  20.9  <NA>  1016.8   \n",
       "2024-08-25 03:00:00  17.9  16.8  93.0   1.0  <NA>  288.0  21.2  <NA>  1018.1   \n",
       "2024-08-25 04:00:00  16.2  14.4  89.0   0.5  <NA>  290.0  21.2  <NA>  1019.2   \n",
       "\n",
       "                     tsun  coco  \n",
       "time                             \n",
       "2024-08-25 00:00:00  <NA>   8.0  \n",
       "2024-08-25 01:00:00  <NA>   8.0  \n",
       "2024-08-25 02:00:00  <NA>   8.0  \n",
       "2024-08-25 03:00:00  <NA>   8.0  \n",
       "2024-08-25 04:00:00  <NA>   7.0  "
      ]
     },
     "execution_count": 8,
     "metadata": {},
     "output_type": "execute_result"
    }
   ],
   "source": [
    "data = Hourly(id, start, end)\n",
    "data = data.fetch()\n",
    "\n",
    "df = pd.DataFrame(data)\n",
    "df.head()"
   ]
  },
  {
   "cell_type": "code",
   "execution_count": 10,
   "id": "a46ccc68",
   "metadata": {},
   "outputs": [
    {
     "name": "stdout",
     "output_type": "stream",
     "text": [
      "<class 'pandas.core.frame.DataFrame'>\n",
      "DatetimeIndex: 8781 entries, 2024-08-25 00:00:00 to 2025-08-25 20:00:00\n",
      "Data columns (total 11 columns):\n",
      " #   Column  Non-Null Count  Dtype  \n",
      "---  ------  --------------  -----  \n",
      " 0   temp    8422 non-null   Float64\n",
      " 1   dwpt    8422 non-null   Float64\n",
      " 2   rhum    8422 non-null   Float64\n",
      " 3   prcp    8781 non-null   Float64\n",
      " 4   snow    0 non-null      Float64\n",
      " 5   wdir    8422 non-null   Float64\n",
      " 6   wspd    8422 non-null   Float64\n",
      " 7   wpgt    0 non-null      Float64\n",
      " 8   pres    8422 non-null   Float64\n",
      " 9   tsun    0 non-null      Float64\n",
      " 10  coco    8350 non-null   Float64\n",
      "dtypes: Float64(11)\n",
      "memory usage: 917.5 KB\n"
     ]
    }
   ],
   "source": [
    "df.info()"
   ]
  },
  {
   "cell_type": "code",
   "execution_count": 33,
   "id": "4924623f",
   "metadata": {},
   "outputs": [],
   "source": [
    "na_cols = [col for col in df.columns if df[col].count() < 1000]\n",
    "df = df.drop(na_cols, axis = 1)"
   ]
  },
  {
   "cell_type": "code",
   "execution_count": null,
   "id": "f6394b83",
   "metadata": {},
   "outputs": [],
   "source": []
  }
 ],
 "metadata": {
  "kernelspec": {
   "display_name": "projectvenv",
   "language": "python",
   "name": "python3"
  },
  "language_info": {
   "codemirror_mode": {
    "name": "ipython",
    "version": 3
   },
   "file_extension": ".py",
   "mimetype": "text/x-python",
   "name": "python",
   "nbconvert_exporter": "python",
   "pygments_lexer": "ipython3",
   "version": "3.13.5"
  }
 },
 "nbformat": 4,
 "nbformat_minor": 5
}

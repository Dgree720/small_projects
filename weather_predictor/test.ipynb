{
 "cells": [
  {
   "cell_type": "code",
   "execution_count": 7,
   "id": "20676b5f",
   "metadata": {},
   "outputs": [],
   "source": [
    "from datetime import datetime\n",
    "from meteostat import Point, Daily, Hourly\n",
    "import pandas as pd"
   ]
  },
  {
   "cell_type": "code",
   "execution_count": 15,
   "id": "81e5dcd6",
   "metadata": {},
   "outputs": [
    {
     "name": "stdout",
     "output_type": "stream",
     "text": [
      "2024-08-25 00:00:00\n",
      "2025-08-25 19:23:44\n"
     ]
    }
   ],
   "source": [
    "current_date = datetime.now()\n",
    "start = datetime(current_date.year -1, current_date.month, current_date.day)\n",
    "end = datetime(current_date.year, current_date.month, current_date.day, current_date.hour-1, current_date.minute, current_date.second)\n",
    "\n",
    "print(start)\n",
    "print(end)"
   ]
  },
  {
   "cell_type": "code",
   "execution_count": 16,
   "id": "5cbc427d",
   "metadata": {},
   "outputs": [
    {
     "data": {
      "application/vnd.microsoft.datawrangler.viewer.v0+json": {
       "columns": [
        {
         "name": "time",
         "rawType": "datetime64[ns]",
         "type": "datetime"
        },
        {
         "name": "temp",
         "rawType": "Float64",
         "type": "float"
        },
        {
         "name": "dwpt",
         "rawType": "Float64",
         "type": "float"
        },
        {
         "name": "rhum",
         "rawType": "Float64",
         "type": "float"
        },
        {
         "name": "prcp",
         "rawType": "Float64",
         "type": "float"
        },
        {
         "name": "snow",
         "rawType": "Float64",
         "type": "float"
        },
        {
         "name": "wdir",
         "rawType": "Float64",
         "type": "float"
        },
        {
         "name": "wspd",
         "rawType": "Float64",
         "type": "float"
        },
        {
         "name": "wpgt",
         "rawType": "Float64",
         "type": "float"
        },
        {
         "name": "pres",
         "rawType": "Float64",
         "type": "float"
        },
        {
         "name": "tsun",
         "rawType": "Float64",
         "type": "float"
        },
        {
         "name": "coco",
         "rawType": "Float64",
         "type": "float"
        }
       ],
       "ref": "617b44e6-0f01-41dc-b1ea-1177836dc577",
       "rows": [
        [
         "2024-08-25 00:00:00",
         "28.3",
         "10.9",
         "34.0",
         "0.0",
         null,
         "100.0",
         "14.8",
         null,
         "1020.9",
         null,
         "2.0"
        ],
        [
         "2024-08-25 01:00:00",
         "26.7",
         "11.6",
         "39.0",
         "0.0",
         null,
         "90.0",
         "13.0",
         null,
         "1021.1",
         null,
         "2.0"
        ],
        [
         "2024-08-25 02:00:00",
         "25.6",
         "12.1",
         "43.0",
         "0.0",
         null,
         "90.0",
         "9.4",
         null,
         "1021.6",
         null,
         "2.0"
        ],
        [
         "2024-08-25 03:00:00",
         "24.4",
         "12.7",
         "48.0",
         "0.0",
         null,
         "100.0",
         "7.6",
         null,
         "1021.5",
         null,
         "1.0"
        ],
        [
         "2024-08-25 04:00:00",
         "23.9",
         "12.8",
         "50.0",
         "0.0",
         null,
         "90.0",
         "9.4",
         null,
         "1021.8",
         null,
         "1.0"
        ]
       ],
       "shape": {
        "columns": 11,
        "rows": 5
       }
      },
      "text/html": [
       "<div>\n",
       "<style scoped>\n",
       "    .dataframe tbody tr th:only-of-type {\n",
       "        vertical-align: middle;\n",
       "    }\n",
       "\n",
       "    .dataframe tbody tr th {\n",
       "        vertical-align: top;\n",
       "    }\n",
       "\n",
       "    .dataframe thead th {\n",
       "        text-align: right;\n",
       "    }\n",
       "</style>\n",
       "<table border=\"1\" class=\"dataframe\">\n",
       "  <thead>\n",
       "    <tr style=\"text-align: right;\">\n",
       "      <th></th>\n",
       "      <th>temp</th>\n",
       "      <th>dwpt</th>\n",
       "      <th>rhum</th>\n",
       "      <th>prcp</th>\n",
       "      <th>snow</th>\n",
       "      <th>wdir</th>\n",
       "      <th>wspd</th>\n",
       "      <th>wpgt</th>\n",
       "      <th>pres</th>\n",
       "      <th>tsun</th>\n",
       "      <th>coco</th>\n",
       "    </tr>\n",
       "    <tr>\n",
       "      <th>time</th>\n",
       "      <th></th>\n",
       "      <th></th>\n",
       "      <th></th>\n",
       "      <th></th>\n",
       "      <th></th>\n",
       "      <th></th>\n",
       "      <th></th>\n",
       "      <th></th>\n",
       "      <th></th>\n",
       "      <th></th>\n",
       "      <th></th>\n",
       "    </tr>\n",
       "  </thead>\n",
       "  <tbody>\n",
       "    <tr>\n",
       "      <th>2024-08-25 00:00:00</th>\n",
       "      <td>28.3</td>\n",
       "      <td>10.9</td>\n",
       "      <td>34.0</td>\n",
       "      <td>0.0</td>\n",
       "      <td>&lt;NA&gt;</td>\n",
       "      <td>100.0</td>\n",
       "      <td>14.8</td>\n",
       "      <td>&lt;NA&gt;</td>\n",
       "      <td>1020.9</td>\n",
       "      <td>&lt;NA&gt;</td>\n",
       "      <td>2.0</td>\n",
       "    </tr>\n",
       "    <tr>\n",
       "      <th>2024-08-25 01:00:00</th>\n",
       "      <td>26.7</td>\n",
       "      <td>11.6</td>\n",
       "      <td>39.0</td>\n",
       "      <td>0.0</td>\n",
       "      <td>&lt;NA&gt;</td>\n",
       "      <td>90.0</td>\n",
       "      <td>13.0</td>\n",
       "      <td>&lt;NA&gt;</td>\n",
       "      <td>1021.1</td>\n",
       "      <td>&lt;NA&gt;</td>\n",
       "      <td>2.0</td>\n",
       "    </tr>\n",
       "    <tr>\n",
       "      <th>2024-08-25 02:00:00</th>\n",
       "      <td>25.6</td>\n",
       "      <td>12.1</td>\n",
       "      <td>43.0</td>\n",
       "      <td>0.0</td>\n",
       "      <td>&lt;NA&gt;</td>\n",
       "      <td>90.0</td>\n",
       "      <td>9.4</td>\n",
       "      <td>&lt;NA&gt;</td>\n",
       "      <td>1021.6</td>\n",
       "      <td>&lt;NA&gt;</td>\n",
       "      <td>2.0</td>\n",
       "    </tr>\n",
       "    <tr>\n",
       "      <th>2024-08-25 03:00:00</th>\n",
       "      <td>24.4</td>\n",
       "      <td>12.7</td>\n",
       "      <td>48.0</td>\n",
       "      <td>0.0</td>\n",
       "      <td>&lt;NA&gt;</td>\n",
       "      <td>100.0</td>\n",
       "      <td>7.6</td>\n",
       "      <td>&lt;NA&gt;</td>\n",
       "      <td>1021.5</td>\n",
       "      <td>&lt;NA&gt;</td>\n",
       "      <td>1.0</td>\n",
       "    </tr>\n",
       "    <tr>\n",
       "      <th>2024-08-25 04:00:00</th>\n",
       "      <td>23.9</td>\n",
       "      <td>12.8</td>\n",
       "      <td>50.0</td>\n",
       "      <td>0.0</td>\n",
       "      <td>&lt;NA&gt;</td>\n",
       "      <td>90.0</td>\n",
       "      <td>9.4</td>\n",
       "      <td>&lt;NA&gt;</td>\n",
       "      <td>1021.8</td>\n",
       "      <td>&lt;NA&gt;</td>\n",
       "      <td>1.0</td>\n",
       "    </tr>\n",
       "  </tbody>\n",
       "</table>\n",
       "</div>"
      ],
      "text/plain": [
       "                     temp  dwpt  rhum  prcp  snow   wdir  wspd  wpgt    pres  \\\n",
       "time                                                                           \n",
       "2024-08-25 00:00:00  28.3  10.9  34.0   0.0  <NA>  100.0  14.8  <NA>  1020.9   \n",
       "2024-08-25 01:00:00  26.7  11.6  39.0   0.0  <NA>   90.0  13.0  <NA>  1021.1   \n",
       "2024-08-25 02:00:00  25.6  12.1  43.0   0.0  <NA>   90.0   9.4  <NA>  1021.6   \n",
       "2024-08-25 03:00:00  24.4  12.7  48.0   0.0  <NA>  100.0   7.6  <NA>  1021.5   \n",
       "2024-08-25 04:00:00  23.9  12.8  50.0   0.0  <NA>   90.0   9.4  <NA>  1021.8   \n",
       "\n",
       "                     tsun  coco  \n",
       "time                             \n",
       "2024-08-25 00:00:00  <NA>   2.0  \n",
       "2024-08-25 01:00:00  <NA>   2.0  \n",
       "2024-08-25 02:00:00  <NA>   2.0  \n",
       "2024-08-25 03:00:00  <NA>   1.0  \n",
       "2024-08-25 04:00:00  <NA>   1.0  "
      ]
     },
     "execution_count": 16,
     "metadata": {},
     "output_type": "execute_result"
    }
   ],
   "source": [
    "data = Hourly('72219', start, end)\n",
    "data = data.fetch()\n",
    "\n",
    "df2 = pd.DataFrame(data)\n",
    "df2.head()"
   ]
  },
  {
   "cell_type": "code",
   "execution_count": null,
   "id": "cf1fc8d9",
   "metadata": {},
   "outputs": [],
   "source": []
  }
 ],
 "metadata": {
  "kernelspec": {
   "display_name": "projectvenv",
   "language": "python",
   "name": "python3"
  },
  "language_info": {
   "codemirror_mode": {
    "name": "ipython",
    "version": 3
   },
   "file_extension": ".py",
   "mimetype": "text/x-python",
   "name": "python",
   "nbconvert_exporter": "python",
   "pygments_lexer": "ipython3",
   "version": "3.13.5"
  }
 },
 "nbformat": 4,
 "nbformat_minor": 5
}
